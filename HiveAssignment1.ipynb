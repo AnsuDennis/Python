{
 "cells": [
  {
   "cell_type": "code",
   "execution_count": 1,
   "metadata": {},
   "outputs": [
    {
     "name": "stdout",
     "output_type": "stream",
     "text": [
      "Overwriting creation_db.hql\n"
     ]
    }
   ],
   "source": [
    "%%writefile creation_db.hql\n",
    "\n",
    "DROP DATABASE IF EXISTS assignmentDB CASCADE;\n",
    "CREATE DATABASE assignmentDB LOCATION '/user/jovyan/assignmentDB';"
   ]
  },
  {
   "cell_type": "code",
   "execution_count": 2,
   "metadata": {},
   "outputs": [
    {
     "name": "stdout",
     "output_type": "stream",
     "text": [
      "\n",
      "Logging initialized using configuration in jar:file:/usr/local/apache-hive-2.3.6-bin/lib/hive-common-2.3.6.jar!/hive-log4j2.properties Async: true\n",
      "OK\n",
      "Time taken: 4.05 seconds\n",
      "OK\n",
      "Time taken: 0.128 seconds\n"
     ]
    }
   ],
   "source": [
    "! hive -f creation_db.hql"
   ]
  },
  {
   "cell_type": "code",
   "execution_count": 3,
   "metadata": {},
   "outputs": [
    {
     "name": "stdout",
     "output_type": "stream",
     "text": [
      "Overwriting create_exteral_table.hql\n"
     ]
    }
   ],
   "source": [
    "%%writefile create_exteral_table.hql\n",
    "\n",
    "USE assignmentDB;\n",
    "DROP TABLE IF EXISTS posts_sample_external;\n",
    "\n",
    "CREATE EXTERNAL TABLE posts_sample_external (\n",
    "    rowID INT,\n",
    "    postTypeID INT,\n",
    "    createDate STRING,\n",
    "    createMonth STRING,\n",
    "    createYear STRING,\n",
    "    OwnerUserId INT,\n",
    "    ParentId INT,\n",
    "    Score INT,\n",
    "    FavoriteCount INT\n",
    ")\n",
    "ROW FORMAT SERDE 'org.apache.hadoop.hive.serde2.RegexSerDe' WITH SERDEPROPERTIES (\n",
    "\"input.regex\" = '(?=.*\\\\brow Id=\\\"(\\\\d+)\\\")(?=.*\\\\bPostTypeId=\\\"(\\\\d+)\\\")(?=.*\\\\bCreationDate=\\\"(((\\\\d{4})-\\\\d{2})-\\\\d{2}T\\\\d{2}:\\\\d{2}:\\\\d{2}.\\\\d{3})\\\")?(?=.*\\\\bOwnerUserId=\\\"(\\\\d+)\\\")?(?=.*\\\\bParentId=\\\"(\\\\d+)\\\")?(?=.*\\\\bScore=\\\"(-*\\\\d+)\\\")(?=.*\\\\bFavoriteCount=\\\"(\\\\d+)\\\")?.*')\n",
    "STORED AS TEXTFILE \n",
    "LOCATION '/data/stackexchange1000/posts' \n",
    ";"
   ]
  },
  {
   "cell_type": "code",
   "execution_count": 4,
   "metadata": {},
   "outputs": [
    {
     "name": "stdout",
     "output_type": "stream",
     "text": [
      "\n",
      "Logging initialized using configuration in jar:file:/usr/local/apache-hive-2.3.6-bin/lib/hive-common-2.3.6.jar!/hive-log4j2.properties Async: true\n",
      "OK\n",
      "Time taken: 3.52 seconds\n",
      "OK\n",
      "Time taken: 0.058 seconds\n",
      "OK\n",
      "Time taken: 0.273 seconds\n"
     ]
    }
   ],
   "source": [
    "! hive -f create_exteral_table.hql"
   ]
  },
  {
   "cell_type": "code",
   "execution_count": 5,
   "metadata": {},
   "outputs": [
    {
     "name": "stdout",
     "output_type": "stream",
     "text": [
      "Overwriting query_exteral_table.hql\n"
     ]
    }
   ],
   "source": [
    "%%writefile query_exteral_table.hql\n",
    "\n",
    "USE assignmentDB;\n",
    "select count(*) from posts_sample_external ;\n",
    "select * from posts_sample_external LIMIT 10;"
   ]
  },
  {
   "cell_type": "code",
   "execution_count": 6,
   "metadata": {},
   "outputs": [
    {
     "name": "stdout",
     "output_type": "stream",
     "text": [
      "\n",
      "Logging initialized using configuration in jar:file:/usr/local/apache-hive-2.3.6-bin/lib/hive-common-2.3.6.jar!/hive-log4j2.properties Async: true\n",
      "OK\n",
      "Time taken: 3.423 seconds\n",
      "WARNING: Hive-on-MR is deprecated in Hive 2 and may not be available in the future versions. Consider using a different execution engine (i.e. spark, tez) or using Hive 1.X releases.\n",
      "Query ID = jovyan_20201125020715_90d84648-cf68-4919-ba29-d62781e5532c\n",
      "Total jobs = 1\n",
      "Launching Job 1 out of 1\n",
      "Number of reduce tasks determined at compile time: 1\n",
      "In order to change the average load for a reducer (in bytes):\n",
      "  set hive.exec.reducers.bytes.per.reducer=<number>\n",
      "In order to limit the maximum number of reducers:\n",
      "  set hive.exec.reducers.max=<number>\n",
      "In order to set a constant number of reducers:\n",
      "  set mapreduce.job.reduces=<number>\n",
      "Starting Job = job_1606268104788_0012, Tracking URL = http://172.17.0.21:8088/proxy/application_1606268104788_0012/\n",
      "Kill Command = /usr/local/hadoop/bin/hadoop job  -kill job_1606268104788_0012\n",
      "Hadoop job information for Stage-1: number of mappers: 1; number of reducers: 1\n",
      "2020-11-25 02:07:22,682 Stage-1 map = 0%,  reduce = 0%\n",
      "2020-11-25 02:07:37,977 Stage-1 map = 55%,  reduce = 0%, Cumulative CPU 14.23 sec\n",
      "2020-11-25 02:07:41,026 Stage-1 map = 100%,  reduce = 0%, Cumulative CPU 16.64 sec\n",
      "2020-11-25 02:07:46,121 Stage-1 map = 100%,  reduce = 100%, Cumulative CPU 17.83 sec\n",
      "MapReduce Total cumulative CPU time: 17 seconds 830 msec\n",
      "Ended Job = job_1606268104788_0012\n",
      "MapReduce Jobs Launched: \n",
      "Stage-Stage-1: Map: 1  Reduce: 1   Cumulative CPU: 17.83 sec   HDFS Read: 60008337 HDFS Write: 105 SUCCESS\n",
      "Total MapReduce CPU Time Spent: 17 seconds 830 msec\n",
      "OK\n",
      "39431\n",
      "Time taken: 31.518 seconds, Fetched: 1 row(s)\n",
      "OK\n",
      "NULL\tNULL\tNULL\tNULL\tNULL\tNULL\tNULL\tNULL\tNULL\n",
      "1394\t2\t2008-08-04T16:38:03.667\t2008-08\t2008\t91\t1390\t16\tNULL\n",
      "3543\t2\t2008-08-06T15:24:00.787\t2008-08\t2008\t399\t3530\t37\tNULL\n",
      "4521\t2\t2008-08-07T08:22:27.440\t2008-08\t2008\t358\t66\t25\tNULL\n",
      "8689\t2\t2008-08-12T11:23:28.733\t2008-08\t2008\t1087\t8685\t1\tNULL\n",
      "9062\t2\t2008-08-12T17:20:41.993\t2008-08\t2008\t198\t6613\t1\tNULL\n",
      "14671\t2\t2008-08-18T14:18:22.310\t2008-08\t2008\t414\t14577\t1\tNULL\n",
      "16307\t2\t2008-08-19T14:45:07.997\t2008-08\t2008\t17\t16298\t2\tNULL\n",
      "18780\t2\t2008-08-20T20:44:27.947\t2008-08\t2008\t414\t18772\t0\tNULL\n",
      "18929\t2\t2008-08-20T21:49:23.203\t2008-08\t2008\t2031\t18912\t13\tNULL\n",
      "Time taken: 0.113 seconds, Fetched: 10 row(s)\n"
     ]
    }
   ],
   "source": [
    "! hive -f query_exteral_table.hql"
   ]
  },
  {
   "cell_type": "code",
   "execution_count": 7,
   "metadata": {},
   "outputs": [
    {
     "name": "stdout",
     "output_type": "stream",
     "text": [
      "Overwriting create_managed_table.hql\n"
     ]
    }
   ],
   "source": [
    "%%writefile create_managed_table.hql\n",
    "\n",
    "\n",
    "set hive.exec.dynamic.partition=true;\n",
    "set hive.exec.max.dynamic.partitions=2048;\n",
    "set hive.exec.max.dynamic.partitions.pernode=256;\n",
    "set hive.exec.dynamic.partition.mode=nonstrict;\n",
    "\n",
    "USE assignmentDB;\n",
    "DROP TABLE IF EXISTS posts_sample;\n",
    "\n",
    "CREATE TABLE posts_sample(\n",
    "    rowID INT,\n",
    "    postTypeID INT,\n",
    "    createDate STRING,\n",
    "    OwnerUserId INT,\n",
    "    ParentId INT,\n",
    "    Score INT,\n",
    "    FavoriteCount INT\n",
    ")\n",
    "PARTITIONED BY (createYear STRING, createMonth STRING) \n",
    ";\n",
    "\n",
    "from posts_sample_external\n",
    "insert overwrite table posts_sample partition (createYear, createMonth) \n",
    "select rowID ,    postTypeID ,    createDate ,OwnerUserId ,ParentId, Score,    FavoriteCount, createYear, createMonth"
   ]
  },
  {
   "cell_type": "code",
   "execution_count": 8,
   "metadata": {},
   "outputs": [
    {
     "name": "stdout",
     "output_type": "stream",
     "text": [
      "\n",
      "Logging initialized using configuration in jar:file:/usr/local/apache-hive-2.3.6-bin/lib/hive-common-2.3.6.jar!/hive-log4j2.properties Async: true\n",
      "OK\n",
      "Time taken: 3.457 seconds\n",
      "OK\n",
      "Time taken: 0.07 seconds\n",
      "OK\n",
      "Time taken: 0.263 seconds\n",
      "WARNING: Hive-on-MR is deprecated in Hive 2 and may not be available in the future versions. Consider using a different execution engine (i.e. spark, tez) or using Hive 1.X releases.\n",
      "Query ID = jovyan_20201125020754_1de0d28c-7d22-49f5-9530-ca376cfc4ed7\n",
      "Total jobs = 3\n",
      "Launching Job 1 out of 3\n",
      "Number of reduce tasks is set to 0 since there's no reduce operator\n",
      "Starting Job = job_1606268104788_0013, Tracking URL = http://172.17.0.21:8088/proxy/application_1606268104788_0013/\n",
      "Kill Command = /usr/local/hadoop/bin/hadoop job  -kill job_1606268104788_0013\n",
      "Hadoop job information for Stage-1: number of mappers: 1; number of reducers: 0\n",
      "2020-11-25 02:08:00,914 Stage-1 map = 0%,  reduce = 0%\n",
      "2020-11-25 02:08:16,197 Stage-1 map = 84%,  reduce = 0%, Cumulative CPU 14.33 sec\n",
      "2020-11-25 02:08:22,293 Stage-1 map = 100%,  reduce = 0%, Cumulative CPU 16.74 sec\n",
      "MapReduce Total cumulative CPU time: 17 seconds 160 msec\n",
      "Ended Job = job_1606268104788_0013\n",
      "Stage-4 is selected by condition resolver.\n",
      "Stage-3 is filtered out by condition resolver.\n",
      "Stage-5 is filtered out by condition resolver.\n",
      "Moving data to directory hdfs://localhost:9000/user/jovyan/assignmentDB/posts_sample/.hive-staging_hive_2020-11-25_02-07-54_598_3032076907455802725-1/-ext-10000\n",
      "Loading data to table assignmentdb.posts_sample partition (createyear=null, createmonth=null)\n",
      "\n",
      "\n",
      "\t Time taken to load dynamic partitions: 5.026 seconds\n",
      "\t Time taken for adding to write entity : 0.007 seconds\n",
      "MapReduce Jobs Launched: \n",
      "Stage-Stage-1: Map: 1   Cumulative CPU: 17.16 sec   HDFS Read: 60005007 HDFS Write: 2108675 SUCCESS\n",
      "Total MapReduce CPU Time Spent: 17 seconds 160 msec\n",
      "OK\n",
      "Time taken: 49.533 seconds\n"
     ]
    }
   ],
   "source": [
    "! hive -f create_managed_table.hql"
   ]
  },
  {
   "cell_type": "code",
   "execution_count": 9,
   "metadata": {},
   "outputs": [
    {
     "name": "stdout",
     "output_type": "stream",
     "text": [
      "Overwriting query_managed_table.hql\n"
     ]
    }
   ],
   "source": [
    "%%writefile query_managed_table.hql\n",
    "\n",
    "USE assignmentDB;\n",
    "select count(*) from posts_sample ;\n",
    "select * from posts_sample LIMIT 10;"
   ]
  },
  {
   "cell_type": "code",
   "execution_count": 10,
   "metadata": {},
   "outputs": [
    {
     "name": "stdout",
     "output_type": "stream",
     "text": [
      "\n",
      "Logging initialized using configuration in jar:file:/usr/local/apache-hive-2.3.6-bin/lib/hive-common-2.3.6.jar!/hive-log4j2.properties Async: true\n",
      "OK\n",
      "Time taken: 3.409 seconds\n",
      "OK\n",
      "39431\n",
      "Time taken: 1.656 seconds, Fetched: 1 row(s)\n",
      "OK\n",
      "1394\t2\t2008-08-04T16:38:03.667\t91\t1390\t16\tNULL\t2008\t2008-08\n",
      "3543\t2\t2008-08-06T15:24:00.787\t399\t3530\t37\tNULL\t2008\t2008-08\n",
      "4521\t2\t2008-08-07T08:22:27.440\t358\t66\t25\tNULL\t2008\t2008-08\n",
      "8689\t2\t2008-08-12T11:23:28.733\t1087\t8685\t1\tNULL\t2008\t2008-08\n",
      "9062\t2\t2008-08-12T17:20:41.993\t198\t6613\t1\tNULL\t2008\t2008-08\n",
      "14671\t2\t2008-08-18T14:18:22.310\t414\t14577\t1\tNULL\t2008\t2008-08\n",
      "16307\t2\t2008-08-19T14:45:07.997\t17\t16298\t2\tNULL\t2008\t2008-08\n",
      "18780\t2\t2008-08-20T20:44:27.947\t414\t18772\t0\tNULL\t2008\t2008-08\n",
      "18929\t2\t2008-08-20T21:49:23.203\t2031\t18912\t13\tNULL\t2008\t2008-08\n",
      "19668\t2\t2008-08-21T11:56:00.593\t279\t19654\t4\tNULL\t2008\t2008-08\n",
      "Time taken: 0.231 seconds, Fetched: 10 row(s)\n"
     ]
    }
   ],
   "source": [
    "! hive -f query_managed_table.hql"
   ]
  },
  {
   "cell_type": "code",
   "execution_count": 11,
   "metadata": {},
   "outputs": [
    {
     "name": "stdout",
     "output_type": "stream",
     "text": [
      "Overwriting query.hql\n"
     ]
    }
   ],
   "source": [
    "%%writefile query.hql\n",
    "\n",
    "USE assignmentDB;\n",
    "select createYear, createMonth, count(*) from posts_sample group by createYear, createMonth;"
   ]
  },
  {
   "cell_type": "code",
   "execution_count": 12,
   "metadata": {},
   "outputs": [
    {
     "name": "stdout",
     "output_type": "stream",
     "text": [
      "\n",
      "Logging initialized using configuration in jar:file:/usr/local/apache-hive-2.3.6-bin/lib/hive-common-2.3.6.jar!/hive-log4j2.properties Async: true\n",
      "OK\n",
      "Time taken: 3.439 seconds\n",
      "WARNING: Hive-on-MR is deprecated in Hive 2 and may not be available in the future versions. Consider using a different execution engine (i.e. spark, tez) or using Hive 1.X releases.\n",
      "Query ID = jovyan_20201125020859_fbc96286-7351-4549-812c-c5cbcc50a8d1\n",
      "Total jobs = 1\n",
      "Launching Job 1 out of 1\n",
      "Number of reduce tasks not specified. Estimated from input data size: 1\n",
      "In order to change the average load for a reducer (in bytes):\n",
      "  set hive.exec.reducers.bytes.per.reducer=<number>\n",
      "In order to limit the maximum number of reducers:\n",
      "  set hive.exec.reducers.max=<number>\n",
      "In order to set a constant number of reducers:\n",
      "  set mapreduce.job.reduces=<number>\n",
      "Starting Job = job_1606268104788_0014, Tracking URL = http://172.17.0.21:8088/proxy/application_1606268104788_0014/\n",
      "Kill Command = /usr/local/hadoop/bin/hadoop job  -kill job_1606268104788_0014\n",
      "Hadoop job information for Stage-1: number of mappers: 1; number of reducers: 1\n",
      "2020-11-25 02:09:07,051 Stage-1 map = 0%,  reduce = 0%\n",
      "2020-11-25 02:09:11,190 Stage-1 map = 100%,  reduce = 0%, Cumulative CPU 1.9 sec\n",
      "2020-11-25 02:09:16,273 Stage-1 map = 100%,  reduce = 100%, Cumulative CPU 3.04 sec\n",
      "MapReduce Total cumulative CPU time: 3 seconds 40 msec\n",
      "Ended Job = job_1606268104788_0014\n",
      "MapReduce Jobs Launched: \n",
      "Stage-Stage-1: Map: 1  Reduce: 1   Cumulative CPU: 3.04 sec   HDFS Read: 2157015 HDFS Write: 3097 SUCCESS\n",
      "Total MapReduce CPU Time Spent: 3 seconds 40 msec\n",
      "OK\n",
      "2008\t2008-08\t23\n",
      "2008\t2008-09\t89\n",
      "2008\t2008-10\t73\n",
      "2008\t2008-11\t54\n",
      "2008\t2008-12\t51\n",
      "2009\t2009-01\t84\n",
      "2009\t2009-02\t84\n",
      "2009\t2009-03\t85\n",
      "2009\t2009-04\t97\n",
      "2009\t2009-05\t111\n",
      "2009\t2009-06\t120\n",
      "2009\t2009-07\t133\n",
      "2009\t2009-08\t129\n",
      "2009\t2009-09\t128\n",
      "2009\t2009-10\t133\n",
      "2009\t2009-11\t149\n",
      "2009\t2009-12\t147\n",
      "2010\t2010-01\t175\n",
      "2010\t2010-02\t162\n",
      "2010\t2010-03\t190\n",
      "2010\t2010-04\t179\n",
      "2010\t2010-05\t168\n",
      "2010\t2010-06\t201\n",
      "2010\t2010-07\t209\n",
      "2010\t2010-08\t212\n",
      "2010\t2010-09\t208\n",
      "2010\t2010-10\t222\n",
      "2010\t2010-11\t236\n",
      "2010\t2010-12\t237\n",
      "2011\t2011-01\t276\n",
      "2011\t2011-02\t273\n",
      "2011\t2011-03\t349\n",
      "2011\t2011-04\t321\n",
      "2011\t2011-05\t327\n",
      "2011\t2011-06\t340\n",
      "2011\t2011-07\t335\n",
      "2011\t2011-08\t362\n",
      "2011\t2011-09\t343\n",
      "2011\t2011-10\t331\n",
      "2011\t2011-11\t361\n",
      "2011\t2011-12\t350\n",
      "2012\t2012-01\t377\n",
      "2012\t2012-02\t412\n",
      "2012\t2012-03\t432\n",
      "2012\t2012-04\t412\n",
      "2012\t2012-05\t429\n",
      "2012\t2012-06\t412\n",
      "2012\t2012-07\t445\n",
      "2012\t2012-08\t445\n",
      "2012\t2012-09\t399\n",
      "2012\t2012-10\t469\n",
      "2012\t2012-11\t438\n",
      "2012\t2012-12\t415\n",
      "2013\t2013-01\t484\n",
      "2013\t2013-02\t474\n",
      "2013\t2013-03\t533\n",
      "2013\t2013-04\t529\n",
      "2013\t2013-05\t520\n",
      "2013\t2013-06\t477\n",
      "2013\t2013-07\t550\n",
      "2013\t2013-08\t531\n",
      "2013\t2013-09\t511\n",
      "2013\t2013-10\t570\n",
      "2013\t2013-11\t543\n",
      "2013\t2013-12\t513\n",
      "2014\t2014-01\t595\n",
      "2014\t2014-02\t585\n",
      "2014\t2014-03\t624\n",
      "2014\t2014-04\t593\n",
      "2014\t2014-05\t541\n",
      "2014\t2014-06\t487\n",
      "2014\t2014-07\t536\n",
      "2014\t2014-08\t495\n",
      "2014\t2014-09\t502\n",
      "2014\t2014-10\t527\n",
      "2014\t2014-11\t501\n",
      "2014\t2014-12\t482\n",
      "2015\t2015-01\t502\n",
      "2015\t2015-02\t506\n",
      "2015\t2015-03\t568\n",
      "2015\t2015-04\t581\n",
      "2015\t2015-05\t566\n",
      "2015\t2015-06\t570\n",
      "2015\t2015-07\t585\n",
      "2015\t2015-08\t554\n",
      "2015\t2015-09\t536\n",
      "2015\t2015-10\t561\n",
      "2015\t2015-11\t529\n",
      "2015\t2015-12\t537\n",
      "2016\t2016-01\t582\n",
      "2016\t2016-02\t592\n",
      "2016\t2016-03\t638\n",
      "2016\t2016-04\t619\n",
      "2016\t2016-05\t603\n",
      "2016\t2016-06\t584\n",
      "2016\t2016-07\t562\n",
      "2016\t2016-08\t571\n",
      "2016\t2016-09\t545\n",
      "2016\t2016-10\t554\n",
      "2016\t2016-11\t562\n",
      "2016\t2016-12\t195\n",
      "__HIVE_DEFAULT_PARTITION__\t__HIVE_DEFAULT_PARTITION__\t384\n",
      "Time taken: 17.488 seconds, Fetched: 102 row(s)\n"
     ]
    }
   ],
   "source": [
    "! hive -f query.hql"
   ]
  },
  {
   "cell_type": "code",
   "execution_count": null,
   "metadata": {},
   "outputs": [],
   "source": []
  }
 ],
 "metadata": {
  "kernelspec": {
   "display_name": "Python 3",
   "language": "python",
   "name": "python3"
  },
  "language_info": {
   "codemirror_mode": {
    "name": "ipython",
    "version": 3
   },
   "file_extension": ".py",
   "mimetype": "text/x-python",
   "name": "python",
   "nbconvert_exporter": "python",
   "pygments_lexer": "ipython3",
   "version": "3.6.6"
  }
 },
 "nbformat": 4,
 "nbformat_minor": 2
}
